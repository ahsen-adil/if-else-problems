{
  "nbformat": 4,
  "nbformat_minor": 0,
  "metadata": {
    "colab": {
      "provenance": [],
      "gpuType": "T4",
      "authorship_tag": "ABX9TyOqaCZ3aLIEfDbDoUTqD/CR",
      "include_colab_link": true
    },
    "kernelspec": {
      "name": "python3",
      "display_name": "Python 3"
    },
    "language_info": {
      "name": "python"
    },
    "accelerator": "GPU"
  },
  "cells": [
    {
      "cell_type": "markdown",
      "metadata": {
        "id": "view-in-github",
        "colab_type": "text"
      },
      "source": [
        "<a href=\"https://colab.research.google.com/github/ahsen-adil/if-else-problems/blob/main/if_else_problems.ipynb\" target=\"_parent\"><img src=\"https://colab.research.google.com/assets/colab-badge.svg\" alt=\"Open In Colab\"/></a>"
      ]
    },
    {
      "cell_type": "markdown",
      "source": [
        "if else ***bold text***"
      ],
      "metadata": {
        "id": "3sBBBPkr-C3j"
      }
    },
    {
      "cell_type": "code",
      "source": [
        "# 1. Age Group Categorization\n",
        "# Classify a person's age group: Child (< 13), Teenager (13-19), Adult (20-59), Senior (60+).\n",
        "\n",
        "age = int(input('please enter your age'))\n",
        "\n",
        "if age < 13:\n",
        "  print(\"child\")\n",
        "elif age < 19:\n",
        "  print(\"teenager\")\n",
        "elif age < 59:\n",
        "  print(\"adult\")\n",
        "elif age > 60:\n",
        "  print(\"senior\")"
      ],
      "metadata": {
        "colab": {
          "base_uri": "https://localhost:8080/"
        },
        "id": "bNOEfrBc-IH2",
        "outputId": "c2629742-2a6d-4280-ac8b-dbe2ad185a89"
      },
      "execution_count": null,
      "outputs": [
        {
          "output_type": "stream",
          "name": "stdout",
          "text": [
            "please enter your age76\n",
            "senior\n"
          ]
        }
      ]
    },
    {
      "cell_type": "code",
      "source": [
        "# 2. Movie Ticket Pricing\n",
        "# Problem: Movie tickets are priced based on age: $12 for adults (18 and over), $8 for children.\n",
        "#  Everyone gets a $2 discount on Wednesday.\n",
        "\n",
        "# solution 1\n",
        "# age = int(input(\"enter your age...\"))\n",
        "# day = str(input(\"enter a day...\"))\n",
        "\n",
        "# if age < 18 and day == \"wednesday\":\n",
        "#   print(\"ticket price for you is $6\")\n",
        "# elif age > 18 and day == \"wednesday\":\n",
        "#   print(\"ticket price for you is $10\")\n",
        "# elif age < 18 and day != \"wednesday\":\n",
        "#   print(\"ticket price for you is $8\")\n",
        "# elif age > 18 and day != \"wednesday\":\n",
        "#   print(\"ticket price for you is $12\")\n",
        "\n",
        "# solution 2\n",
        "age1 = int(input(\"enter your age...\"))\n",
        "day1 = str(input(\"enter a day...\"))\n",
        "\n",
        "price = 12 if age1 >= 18 else 8\n",
        "\n",
        "if day1 == \"wednesday\":\n",
        "  price -= 2\n",
        "\n",
        "print(f\"ticket price foryou is ${price}\")\n"
      ],
      "metadata": {
        "colab": {
          "base_uri": "https://localhost:8080/"
        },
        "id": "CZXVwR89_f1p",
        "outputId": "f613d396-3f57-4a31-fdab-de16c3d6c2b4"
      },
      "execution_count": null,
      "outputs": [
        {
          "output_type": "stream",
          "name": "stdout",
          "text": [
            "enter your age...1\n",
            "enter a day...jjjs\n",
            "ticket price foryou is $8\n"
          ]
        }
      ]
    },
    {
      "cell_type": "code",
      "source": [
        "# 3. Grade Calculator\n",
        "# Problem: Assign a letter grade based on a student's score: A (90-100), B (80-89), C (70-79), D (60-69), F (below 60)\n",
        "\n",
        "persentage = int(input(\"enter your marks\"))\n",
        "\n",
        "if persentage < 60:\n",
        "  print(\"grade F\")\n",
        "elif persentage < 70:\n",
        "  print(\"grade D\")\n",
        "elif persentage < 80:\n",
        "  print(\"grade c\")\n",
        "elif persentage < 90:\n",
        "  print(\"grade b\")\n",
        "elif persentage <= 100:\n",
        "  print(\"grade a\")\n",
        "elif persentage > 100:\n",
        "  print(\"invalid numbers...\")\n",
        "else:\n",
        "  print(\"fail\")\n"
      ],
      "metadata": {
        "colab": {
          "base_uri": "https://localhost:8080/"
        },
        "id": "sQp6tLl9IIZu",
        "outputId": "32409476-2474-4d21-90e7-8f31cedd54fe"
      },
      "execution_count": null,
      "outputs": [
        {
          "output_type": "stream",
          "name": "stdout",
          "text": [
            "enter your marks33\n",
            "grade F\n"
          ]
        }
      ]
    },
    {
      "cell_type": "code",
      "source": [
        "# Fruit Ripeness Checker\n",
        "# Problem: Determine if a fruit is ripe, overripe, or unripe based on its color.\n",
        "#  (e.g., Banana: Green - Unripe, Yellow - Ripe, Brown - Overripe)\n",
        "\n",
        "fruit = [\"fruit is unripe\", \"fruit is ripe\",\"fruit is overripe\"]\n",
        "\n",
        "banana = input(\"enter banana color.. (green , yellow , brown)\")\n",
        "\n",
        "if banana == \"green\":\n",
        "  display(fruit[0])\n",
        "elif banana == \"yellow\":\n",
        "  display(fruit[1])\n",
        "elif banana == \"brown\":\n",
        "  display(fruit[2])\n",
        "else:\n",
        "   display(\"enter valid color\")"
      ],
      "metadata": {
        "colab": {
          "base_uri": "https://localhost:8080/",
          "height": 53
        },
        "id": "dpsKVkrrLu7T",
        "outputId": "ca0feb99-ae7d-477e-db90-e1c61869dde9"
      },
      "execution_count": null,
      "outputs": [
        {
          "name": "stdout",
          "output_type": "stream",
          "text": [
            "enter banana color.. (green , yellow , brown)sjjsk\n"
          ]
        },
        {
          "output_type": "display_data",
          "data": {
            "text/plain": [
              "'enter valid color'"
            ],
            "application/vnd.google.colaboratory.intrinsic+json": {
              "type": "string"
            }
          },
          "metadata": {}
        }
      ]
    },
    {
      "cell_type": "code",
      "source": [
        "# 5. Weather Activity Suggestion\n",
        "# Problem: Suggest an activity based on the weather\n",
        "# (e.g., Sunny - Go for a walk, Rainy - Read a book, Snowy - Build a snowman).\n",
        "\n",
        "weather = input(\"enter weather (sunny , rainy , snowy)\")\n",
        "\n",
        "if weather == \"sunny\":\n",
        "  activity = \"go for a walk\"\n",
        "elif weather == 'rainy':\n",
        "  activity = \"read a book\"\n",
        "elif weather == \"snowy\":\n",
        "  activity = \"build a snowman\"\n",
        "\n",
        "print(activity)\n"
      ],
      "metadata": {
        "colab": {
          "base_uri": "https://localhost:8080/"
        },
        "id": "Ui6EfkcyPGiE",
        "outputId": "2c8e6849-86e3-4605-b6b2-83a7d0fa66a8"
      },
      "execution_count": null,
      "outputs": [
        {
          "output_type": "stream",
          "name": "stdout",
          "text": [
            "enter weather (sunny , rainy , snowy)snowy\n",
            "build a snowman\n"
          ]
        }
      ]
    },
    {
      "cell_type": "code",
      "source": [
        "# 6. Transportation Mode Selection\n",
        "# Problem: Choose a mode of transportation based on the distance\n",
        "#  (e.g., <3 km: Walk, 3-15 km: Bike, >15 km: Car).\n",
        "\n",
        "distance = int(input(\"enter distance \"))\n",
        "\n",
        "if distance < 3:\n",
        "  display(\"walk\")\n",
        "elif distance < 15:\n",
        "  display(\"bike\")\n",
        "elif distance > 15:\n",
        "  display(\"car\")\n",
        "\n"
      ],
      "metadata": {
        "colab": {
          "base_uri": "https://localhost:8080/",
          "height": 53
        },
        "id": "RBaosfj7Sioh",
        "outputId": "54e1ec77-dc4d-441a-e15f-0bee08c027b2"
      },
      "execution_count": null,
      "outputs": [
        {
          "name": "stdout",
          "output_type": "stream",
          "text": [
            "enter distance44\n"
          ]
        },
        {
          "output_type": "display_data",
          "data": {
            "text/plain": [
              "'car'"
            ],
            "application/vnd.google.colaboratory.intrinsic+json": {
              "type": "string"
            }
          },
          "metadata": {}
        }
      ]
    },
    {
      "cell_type": "code",
      "source": [
        "# 7. Coffee Customization\n",
        "# Problem: Customize a coffee order:\n",
        "#  \"Small\", \"Medium\", or \"Large\" with an option for \"Extra shot\" of espresso.\n",
        "\n",
        "order = input(\"order coffee : ( small , medium , large\")\n",
        "extra_shot = input(\"extra shot ( yes or no )\")\n",
        "\n",
        "if order == \"small\":\n",
        "  print(\"thanks for order small coffee\")\n",
        "elif order == \"medium\":\n",
        "  print(\"tanks for order medium coffee\")\n",
        "elif order == \"large\":\n",
        "  print(\"thanks for order large coffee\")\n",
        "\n",
        "if extra_shot == \"yes\":\n",
        "  print(f\"here is your {order} coffee with extra shot\")\n",
        "\n",
        "\n"
      ],
      "metadata": {
        "colab": {
          "base_uri": "https://localhost:8080/"
        },
        "id": "03hBNHW-VKLe",
        "outputId": "ef348c99-71ad-4a33-f776-18df43fc5cb0"
      },
      "execution_count": null,
      "outputs": [
        {
          "output_type": "stream",
          "name": "stdout",
          "text": [
            "order coffee : ( small , mediam , largelarge\n",
            "extra shot ( yes or no )yes\n",
            "tanks for order medium coffee\n",
            "here is your large coffee with extra shot\n"
          ]
        }
      ]
    },
    {
      "cell_type": "code",
      "source": [
        "# 8. Password Strength Checker\n",
        "# Problem: Check if a password is \"Weak\", \"Medium\", or \"Strong\".\n",
        "# Criteria: < 6 chars (Weak), 6-10 chars (Medium), >10 chars (Strong).\n",
        "\n",
        "password = input('enter your password')\n",
        "length = len(password)\n",
        "\n",
        "if length < 6:\n",
        "  display(\"weak\")\n",
        "elif length < 10:\n",
        "  display('medium')\n",
        "elif length > 10:\n",
        "  display(\"strong\")\n",
        "\n",
        "\n"
      ],
      "metadata": {
        "colab": {
          "base_uri": "https://localhost:8080/",
          "height": 53
        },
        "id": "thJu-j5GY9ou",
        "outputId": "ddd94059-9d09-4f88-b616-9987e316e597"
      },
      "execution_count": null,
      "outputs": [
        {
          "name": "stdout",
          "output_type": "stream",
          "text": [
            "enter your passworddjdkdksdksd,md\n"
          ]
        },
        {
          "output_type": "display_data",
          "data": {
            "text/plain": [
              "'strong'"
            ],
            "application/vnd.google.colaboratory.intrinsic+json": {
              "type": "string"
            }
          },
          "metadata": {}
        }
      ]
    },
    {
      "cell_type": "code",
      "source": [
        "# 9. Leap Year Checker\n",
        "# Problem: Determine if a year is a leap year.\n",
        "#  (Leap years are divisible by 4, but not by 100 unless also divisible by 400).\n",
        "\n",
        "year = int(input(\"enter year..\"))\n",
        "\n",
        "if (year % 400 == 0) or ( year% 4 == 0 and year % 100 != 0):\n",
        "  print(f\"{year} is a leap year\")\n",
        "else:\n",
        "  print(\"year is NOT leap year\")"
      ],
      "metadata": {
        "colab": {
          "base_uri": "https://localhost:8080/"
        },
        "id": "aBJsqBQjbc-u",
        "outputId": "0ca08d01-f80d-4fa7-d81f-e2c0b3910f41"
      },
      "execution_count": null,
      "outputs": [
        {
          "output_type": "stream",
          "name": "stdout",
          "text": [
            "enter year..2019\n",
            "year is NOT leap year\n"
          ]
        }
      ]
    },
    {
      "cell_type": "code",
      "source": [
        "# 10. Pet Food Recommendation\n",
        "# Problem: Recommend a type of pet food based on the pet's species and age.\n",
        "# (e.g., Dog: <2 years - Puppy food, Cat: >5 years - Senior cat food).\n",
        "\n",
        "animal = str(input(\"enter animal name (dog , cat)\"))\n",
        "age = int(input(\"enter animal age\"))\n",
        "\n",
        "if animal == \"dog\" and age < 2:\n",
        "  print(\"puppy food\")\n",
        "elif animal == \"dog\" and age > 2:\n",
        "  print(\"senior food\")\n",
        "elif animal == \"cat\" and age > 5:\n",
        "  print(\"senoir food\")\n",
        "elif animal == \"cat\" and age < 5:\n",
        "  print(\"puppy food\")\n"
      ],
      "metadata": {
        "colab": {
          "base_uri": "https://localhost:8080/"
        },
        "id": "I2L_-KAUfoTC",
        "outputId": "2ee25c69-bcfd-48f8-82e7-9732cbbee95c"
      },
      "execution_count": null,
      "outputs": [
        {
          "output_type": "stream",
          "name": "stdout",
          "text": [
            "enter animal name (dog , cat)cat\n",
            "enter animal age7\n",
            "senoir food\n"
          ]
        }
      ]
    }
  ]
}